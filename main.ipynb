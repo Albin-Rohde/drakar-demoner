{
 "cells": [
  {
   "cell_type": "markdown",
   "source": [
    "Såhär skapar man en rollperson\n",
    "\n",
    "Börja med att definera en `rollpersonConfog`"
   ],
   "metadata": {
    "collapsed": false
   }
  },
  {
   "cell_type": "code",
   "execution_count": 6,
   "outputs": [],
   "source": [
    "from drakar.drakar.rollspelare.rollperson import RollPerson, RollspelareConfig\n",
    "\n",
    "config = RollspelareConfig()"
   ],
   "metadata": {
    "collapsed": false
   }
  },
  {
   "cell_type": "markdown",
   "source": [
    "I vår config kan vi sätta ras och ålder"
   ],
   "metadata": {
    "collapsed": false
   }
  },
  {
   "cell_type": "code",
   "execution_count": 18,
   "outputs": [],
   "source": [
    "from drakar.drakar.rollspelare.ras import Ras\n",
    "\n",
    "config.ras = Ras.MANNISKA\n",
    "config.alder = 23"
   ],
   "metadata": {
    "collapsed": false
   }
  },
  {
   "cell_type": "markdown",
   "source": [
    "Nu kan vi skapa vår rollperson\n"
   ],
   "metadata": {
    "collapsed": false
   }
  },
  {
   "cell_type": "code",
   "execution_count": null,
   "outputs": [],
   "source": [
    "rp = RollPerson(config)\n",
    "rp"
   ],
   "metadata": {
    "collapsed": false
   }
  },
  {
   "cell_type": "markdown",
   "source": [
    "\n",
    "\n",
    "Klasser"
   ],
   "metadata": {
    "collapsed": false
   }
  },
  {
   "cell_type": "code",
   "execution_count": 22,
   "outputs": [
    {
     "data": {
      "text/plain": "<Klass.LAGRE_MEDELKLASS: 'Lägre medelklass'>"
     },
     "execution_count": 22,
     "metadata": {},
     "output_type": "execute_result"
    }
   ],
   "source": [
    "from drakar.drakar.person.klass import Klass, get_random_klass, get_coins_from_klass\n",
    "\n",
    "klass = get_random_klass()\n",
    "klass"
   ],
   "metadata": {
    "collapsed": false
   }
  },
  {
   "cell_type": "code",
   "execution_count": 23,
   "outputs": [
    {
     "data": {
      "text/plain": "300"
     },
     "execution_count": 23,
     "metadata": {},
     "output_type": "execute_result"
    }
   ],
   "source": [
    "get_coins_from_klass(klass)"
   ],
   "metadata": {
    "collapsed": false
   }
  },
  {
   "cell_type": "code",
   "execution_count": 15,
   "outputs": [
    {
     "data": {
      "text/plain": "15"
     },
     "execution_count": 15,
     "metadata": {},
     "output_type": "execute_result"
    }
   ],
   "source": [
    "from drakar.drakar.person.fardighet import Avvapna, Administration\n",
    "from drakar.drakar.person.grundegenskaper import generate_ge\n",
    "ge = generate_ge()\n",
    "\n",
    "av = Avvapna(ge, 10)\n",
    "av.use_skill(9)\n",
    "\n",
    "ad = Administration(ge, 10)\n",
    "\n",
    "ad.use_skill(13)\n",
    "ad.bas_level\n",
    "ge.intelligens"
   ],
   "metadata": {
    "collapsed": false
   }
  },
  {
   "cell_type": "code",
   "execution_count": null,
   "outputs": [],
   "source": [
    "av.use_skill(9)"
   ],
   "metadata": {
    "collapsed": false
   }
  },
  {
   "cell_type": "code",
   "execution_count": 3,
   "outputs": [
    {
     "data": {
      "text/plain": "'åsna'"
     },
     "execution_count": 3,
     "metadata": {},
     "output_type": "execute_result"
    }
   ],
   "source": [
    "class Foo:\n",
    "    foo = None\n",
    "\n",
    "    def __init__(self):\n",
    "        self.foo = \"åsna\"\n",
    "\n",
    "    def use_thing(self):\n",
    "        return self.foo\n",
    "\n",
    "class Bar(Foo):\n",
    "    bar = \"greger\"\n",
    "\n",
    "b = Bar()\n",
    "b.foo"
   ],
   "metadata": {
    "collapsed": false
   }
  },
  {
   "cell_type": "code",
   "execution_count": 8,
   "outputs": [
    {
     "data": {
      "text/plain": "'aa'"
     },
     "execution_count": 8,
     "metadata": {},
     "output_type": "execute_result"
    }
   ],
   "source": [
    "class Baz:\n",
    "    baz = None\n",
    "\n",
    "    def __init__(self, v):\n",
    "        self.baz = v\n",
    "\n",
    "    def use(self):\n",
    "        return self.baz\n",
    "\n",
    "class Biz(Baz):\n",
    "    biz = \"apa\"\n",
    "\n",
    "    def use(self):\n",
    "        return \"no\"\n",
    "\n",
    "\n",
    "b = Biz(\"aa\")\n",
    "b.baz"
   ],
   "metadata": {
    "collapsed": false
   }
  },
  {
   "cell_type": "code",
   "execution_count": 17,
   "outputs": [
    {
     "data": {
      "text/plain": "'The monkey say: oo Aaa aa i am Apa'"
     },
     "execution_count": 17,
     "metadata": {},
     "output_type": "execute_result"
    }
   ],
   "source": [
    "class Djur:\n",
    "    say = None\n",
    "    djur = None\n",
    "\n",
    "    def __init__(self, v):\n",
    "        self.say = v\n",
    "\n",
    "    def speak(self):\n",
    "        return f\"{self.say} i am {self.djur}\"\n",
    "\n",
    "class Apa(Djur):\n",
    "    djur = \"Apa\"\n",
    "\n",
    "    def speak(self):\n",
    "        return f\"The monkey say: {self.say} i am {self.djur}\"\n",
    "\n",
    "monk = Apa(\"oo Aaa aa\")\n",
    "\n",
    "monk.speak()"
   ],
   "metadata": {
    "collapsed": false
   }
  },
  {
   "cell_type": "code",
   "execution_count": 20,
   "outputs": [
    {
     "data": {
      "text/plain": "'The silver car go wroom in 200kph'"
     },
     "execution_count": 20,
     "metadata": {},
     "output_type": "execute_result"
    }
   ],
   "source": [
    "class Car:\n",
    "    color = None\n",
    "    speed = None\n",
    "\n",
    "    def __init__(self, color):\n",
    "        self.color = color\n",
    "\n",
    "    def text(self):\n",
    "        return f\"The {self.color} car go wroom in {self.speed}kph\"\n",
    "\n",
    "class Saab(Car):\n",
    "    speed = 200\n",
    "\n",
    "bil = Saab(\"silver\")\n",
    "\n",
    "bil.text()\n"
   ],
   "metadata": {
    "collapsed": false
   }
  },
  {
   "cell_type": "code",
   "execution_count": null,
   "outputs": [],
   "source": [],
   "metadata": {
    "collapsed": false
   }
  }
 ],
 "metadata": {
  "kernelspec": {
   "display_name": "Python 3",
   "language": "python",
   "name": "python3"
  },
  "language_info": {
   "codemirror_mode": {
    "name": "ipython",
    "version": 2
   },
   "file_extension": ".py",
   "mimetype": "text/x-python",
   "name": "python",
   "nbconvert_exporter": "python",
   "pygments_lexer": "ipython2",
   "version": "2.7.6"
  }
 },
 "nbformat": 4,
 "nbformat_minor": 0
}
